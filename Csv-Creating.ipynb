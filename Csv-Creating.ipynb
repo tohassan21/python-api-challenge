{
 "cells": [
  {
   "cell_type": "code",
   "execution_count": null,
   "id": "5686de7e-5e13-49c5-bff0-c68db00f8a47",
   "metadata": {},
   "outputs": [],
   "source": [
    "import requests\n",
    "import json\n",
    "import pandas as pd\n",
    "if trade_key == \"YOUR KEY HERE\":\n",
    "    print(\"Please configure your config.py file\")"
   ]
  },
  {
   "cell_type": "code",
   "execution_count": null,
   "id": "2862fd92-797b-411a-bee9-ff893779fcad",
   "metadata": {},
   "outputs": [],
   "source": [
    "# Month\n",
    "export_url =f'https://api.census.gov/data/timeseries/intltrade/exports/hs?get=E_COMMODITY_SDESC,CTY_NAME,ALL_VAL_YR,DIST_NAME&time=2013-01'\n",
    "import_url =f'https://api.census.gov/data/timeseries/intltrade/imports/enduse?get=CTY_CODE,CTY_NAME,I_ENDUSE,I_ENDUSE_LDESC,GEN_VAL_MO,CON_VAL_MO&time=2013-01'\n",
    "trade_data = requests.get(import_url).json()\n",
    "trade_data"
   ]
  },
  {
   "cell_type": "code",
   "execution_count": null,
   "id": "715e33f5-eb42-452c-ace3-b5f655612936",
   "metadata": {},
   "outputs": [],
   "source": [
    "# Annual\n",
    "annual_2015 = f'https://api.census.gov/data/2018/intltrade/imp_exp?get=EXPALL2013,COUNTRY&SCHEDULE&key={trade_key}'\n",
    "annual_data = requests.get(annual_2015).json()\n",
    "annual_data"
   ]
  },
  {
   "cell_type": "code",
   "execution_count": null,
   "id": "a032d933-f725-487e-a2c1-a82ffe39fb1c",
   "metadata": {},
   "outputs": [],
   "source": [
    "df = pd.DataFrame(data=annual_data)\n",
    "df_header =df[1:]\n",
    "header = df.iloc[0]\n",
    "df_header.columns = header\n",
    "df_header.reset_index(drop=True, inplace=True)\n",
    "df_header"
   ]
  },
  {
   "cell_type": "code",
   "execution_count": null,
   "id": "3a3cb4ed-c226-4d8d-8b5a-cbf95208c942",
   "metadata": {},
   "outputs": [],
   "source": [
    "df_header.to_csv('Annual International Trade  of Manufactured Goods (2013).csv',index=False)"
   ]
  },
  {
   "cell_type": "code",
   "execution_count": null,
   "id": "956da9a1-fccd-4159-9c31-4bfa4c3a1cf9",
   "metadata": {},
   "outputs": [],
   "source": [
    "number =df_header['EXPALL2013']\n",
    "total =0\n",
    "for x in number:\n",
    "    total += int(x)\n",
    "total"
   ]
  },
  {
   "cell_type": "code",
   "execution_count": null,
   "id": "7b9ba233-3805-4837-8703-75a200c73ecf",
   "metadata": {},
   "outputs": [],
   "source": []
  }
 ],
 "metadata": {
  "kernelspec": {
   "display_name": "Python 3 (ipykernel)",
   "language": "python",
   "name": "python3"
  },
  "language_info": {
   "codemirror_mode": {
    "name": "ipython",
    "version": 3
   },
   "file_extension": ".py",
   "mimetype": "text/x-python",
   "name": "python",
   "nbconvert_exporter": "python",
   "pygments_lexer": "ipython3",
   "version": "3.12.4"
  }
 },
 "nbformat": 4,
 "nbformat_minor": 5
}
